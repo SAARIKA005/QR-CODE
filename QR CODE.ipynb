{
  "nbformat": 4,
  "nbformat_minor": 0,
  "metadata": {
    "colab": {
      "name": "k means",
      "provenance": []
    },
    "kernelspec": {
      "name": "python3",
      "display_name": "Python 3"
    }
  },
  "cells": [
    {
      "cell_type": "code",
      "metadata": {
        "id": "8juBoNzOHTUQ"
      },
      "source": [
        "import pyqrcode \n",
        "from pyqrcode import QRCode \n",
        "  \n",
        "# String which represent the QR code \n",
        "s = \"https://www.youtube.com/channel/UCeO9hPCfRzqb2yTuAn713Mg\"\n",
        "  \n",
        "# Generate QR code \n",
        "url = pyqrcode.create(s) \n",
        "  \n",
        "# Create and save the png file naming \"myqr.png\" \n",
        "url.svg(\"myyoutube.svg\", scale = 8) "
      ],
      "execution_count": null,
      "outputs": []
    }
  ]
}